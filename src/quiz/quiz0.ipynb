{
 "cells": [
  {
   "cell_type": "code",
   "execution_count": 7,
   "metadata": {},
   "outputs": [
    {
     "name": "stdout",
     "output_type": "stream",
     "text": [
      "['Welcome', 'to', 'the', 'world', 'of', '\"', 'Computational', 'Linguistics', '\"', '!']\n",
      "[(0, 7), (8, 10), (11, 14), (15, 20), (21, 23), (24, 25), (25, 38), (39, 50), (50, 51), (51, 52)]\n",
      "['We', \"'ll\", 'have', 'lots', 'of', 'fun', 'this', 'semester', '.']\n",
      "[(53, 55), (55, 58), (59, 63), (64, 68), (69, 71), (72, 75), (76, 80), (81, 89), (89, 90)]\n"
     ]
    }
   ],
   "source": [
    "from elit_tokenizer import EnglishTokenizer\n",
    "tokenizer = EnglishTokenizer()\n",
    "\n",
    "text = 'Welcome to the world of \"Computational Linguistics\"! We\\'ll have lots of fun this semester.'\n",
    "sentences = tokenizer.decode(text, segment=2)\n",
    "\n",
    "for sentence in sentences:\n",
    "    print(sentence.tokens)\n",
    "    print(sentence.offsets)"
   ]
  }
 ],
 "metadata": {
  "interpreter": {
   "hash": "da8de02504facaa20e1c212b6ee0b96910b11ad43e2a1ca39534fa79451e23a2"
  },
  "kernelspec": {
   "display_name": "Python 3.8.8 64-bit",
   "language": "python",
   "name": "python3"
  },
  "language_info": {
   "codemirror_mode": {
    "name": "ipython",
    "version": 3
   },
   "file_extension": ".py",
   "mimetype": "text/x-python",
   "name": "python",
   "nbconvert_exporter": "python",
   "pygments_lexer": "ipython3",
   "version": "3.10.2"
  },
  "orig_nbformat": 4
 },
 "nbformat": 4,
 "nbformat_minor": 2
}
